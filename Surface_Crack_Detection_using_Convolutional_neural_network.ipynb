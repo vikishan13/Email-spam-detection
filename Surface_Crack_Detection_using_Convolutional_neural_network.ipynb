{
  "nbformat": 4,
  "nbformat_minor": 0,
  "metadata": {
    "colab": {
      "provenance": [],
      "gpuType": "T4",
      "authorship_tag": "ABX9TyPQsnM7TcFzYiOOEx2ZXx8P",
      "include_colab_link": true
    },
    "kernelspec": {
      "name": "python3",
      "display_name": "Python 3"
    },
    "language_info": {
      "name": "python"
    },
    "accelerator": "GPU"
  },
  "cells": [
    {
      "cell_type": "markdown",
      "metadata": {
        "id": "view-in-github",
        "colab_type": "text"
      },
      "source": [
        "<a href=\"https://colab.research.google.com/github/vikishan13/Email-spam-detection-using-Transfer-Learning/blob/main/Surface_Crack_Detection_using_Convolutional_neural_network.ipynb\" target=\"_parent\"><img src=\"https://colab.research.google.com/assets/colab-badge.svg\" alt=\"Open In Colab\"/></a>"
      ]
    },
    {
      "cell_type": "code",
      "source": [
        "pip install opendatasets"
      ],
      "metadata": {
        "colab": {
          "base_uri": "https://localhost:8080/"
        },
        "id": "4orZpP0rzBIX",
        "outputId": "eb4978f5-4850-4d9b-f853-82ef360a3cdd"
      },
      "execution_count": 1,
      "outputs": [
        {
          "output_type": "stream",
          "name": "stdout",
          "text": [
            "Requirement already satisfied: opendatasets in /usr/local/lib/python3.10/dist-packages (0.1.22)\n",
            "Requirement already satisfied: tqdm in /usr/local/lib/python3.10/dist-packages (from opendatasets) (4.66.1)\n",
            "Requirement already satisfied: kaggle in /usr/local/lib/python3.10/dist-packages (from opendatasets) (1.5.16)\n",
            "Requirement already satisfied: click in /usr/local/lib/python3.10/dist-packages (from opendatasets) (8.1.7)\n",
            "Requirement already satisfied: six>=1.10 in /usr/local/lib/python3.10/dist-packages (from kaggle->opendatasets) (1.16.0)\n",
            "Requirement already satisfied: certifi in /usr/local/lib/python3.10/dist-packages (from kaggle->opendatasets) (2023.11.17)\n",
            "Requirement already satisfied: python-dateutil in /usr/local/lib/python3.10/dist-packages (from kaggle->opendatasets) (2.8.2)\n",
            "Requirement already satisfied: requests in /usr/local/lib/python3.10/dist-packages (from kaggle->opendatasets) (2.31.0)\n",
            "Requirement already satisfied: python-slugify in /usr/local/lib/python3.10/dist-packages (from kaggle->opendatasets) (8.0.1)\n",
            "Requirement already satisfied: urllib3 in /usr/local/lib/python3.10/dist-packages (from kaggle->opendatasets) (2.0.7)\n",
            "Requirement already satisfied: bleach in /usr/local/lib/python3.10/dist-packages (from kaggle->opendatasets) (6.1.0)\n",
            "Requirement already satisfied: webencodings in /usr/local/lib/python3.10/dist-packages (from bleach->kaggle->opendatasets) (0.5.1)\n",
            "Requirement already satisfied: text-unidecode>=1.3 in /usr/local/lib/python3.10/dist-packages (from python-slugify->kaggle->opendatasets) (1.3)\n",
            "Requirement already satisfied: charset-normalizer<4,>=2 in /usr/local/lib/python3.10/dist-packages (from requests->kaggle->opendatasets) (3.3.2)\n",
            "Requirement already satisfied: idna<4,>=2.5 in /usr/local/lib/python3.10/dist-packages (from requests->kaggle->opendatasets) (3.6)\n"
          ]
        }
      ]
    },
    {
      "cell_type": "code",
      "execution_count": 2,
      "metadata": {
        "id": "-ZfCCgaLyj_I"
      },
      "outputs": [],
      "source": [
        "import opendatasets as od\n",
        "import numpy as np\n",
        "import pandas as pd\n",
        "from sklearn.model_selection import train_test_split\n",
        "import tensorflow as tf"
      ]
    },
    {
      "cell_type": "code",
      "source": [
        "od.download(\"https://www.kaggle.com/datasets/arunrk7/surface-crack-detection\")"
      ],
      "metadata": {
        "colab": {
          "base_uri": "https://localhost:8080/"
        },
        "id": "trOOsUTyzQM_",
        "outputId": "46994dde-efc5-4ea3-f6e5-8ed5d8c08940"
      },
      "execution_count": 3,
      "outputs": [
        {
          "output_type": "stream",
          "name": "stdout",
          "text": [
            "Skipping, found downloaded files in \"./surface-crack-detection\" (use force=True to force download)\n"
          ]
        }
      ]
    },
    {
      "cell_type": "code",
      "source": [
        "dataset_path = \"/content/surface-crack-detection\""
      ],
      "metadata": {
        "id": "DLE43WMbz_PV"
      },
      "execution_count": 4,
      "outputs": []
    },
    {
      "cell_type": "code",
      "source": [
        "positive_path = \"/content/surface-crack-detection/Positive\""
      ],
      "metadata": {
        "id": "WjEtONiQ0DLx"
      },
      "execution_count": 5,
      "outputs": []
    },
    {
      "cell_type": "code",
      "source": [
        "import os # operating system\n",
        "import cv2 # computer vision 2"
      ],
      "metadata": {
        "id": "OLq4m5Nw06N6"
      },
      "execution_count": 6,
      "outputs": []
    },
    {
      "cell_type": "code",
      "source": [
        "images = [] # numerical information about each image will be stored\n",
        "labels = [] # label of each image [whether positive(1) or negative(0)]\n",
        "for file in os.listdir(positive_path):\n",
        "  image_path = os.path.join(positive_path, file)\n",
        "  # print(image_path)\n",
        "  img = cv2.imread(image_path)\n",
        "  # print(img)\n",
        "  img = cv2.resize(img, (64, 64))\n",
        "  img = cv2.cvtColor(img, cv2.COLOR_BGR2RGB) # color scheme\n",
        "  images.append(img)\n",
        "  labels.append(1)"
      ],
      "metadata": {
        "id": "sIcN11yjzNA5"
      },
      "execution_count": 7,
      "outputs": []
    },
    {
      "cell_type": "code",
      "source": [
        "negative_path = \"/content/surface-crack-detection/Negative\""
      ],
      "metadata": {
        "id": "4Ni84Ou_CzZG"
      },
      "execution_count": 8,
      "outputs": []
    },
    {
      "cell_type": "code",
      "source": [
        "for file in os.listdir(negative_path):\n",
        "  image_path = os.path.join(negative_path, file)\n",
        "  # print(image_path)\n",
        "  img = cv2.imread(image_path)\n",
        "  # print(img)\n",
        "  img = cv2.resize(img, (64, 64))\n",
        "  img = cv2.cvtColor(img, cv2.COLOR_BGR2RGB) # color scheme\n",
        "  images.append(img)\n",
        "  labels.append(0)"
      ],
      "metadata": {
        "id": "xkQ8_OT7DWOw"
      },
      "execution_count": 9,
      "outputs": []
    },
    {
      "cell_type": "code",
      "source": [
        "images = np.array(images)\n",
        "labels = np.array(labels)"
      ],
      "metadata": {
        "id": "u75a51k6DifT"
      },
      "execution_count": 10,
      "outputs": []
    },
    {
      "cell_type": "code",
      "source": [
        "images.shape"
      ],
      "metadata": {
        "colab": {
          "base_uri": "https://localhost:8080/"
        },
        "id": "31hnIQkEEC2d",
        "outputId": "22c7d4e5-e82d-40ce-f312-48dab13110bf"
      },
      "execution_count": 11,
      "outputs": [
        {
          "output_type": "execute_result",
          "data": {
            "text/plain": [
              "(40000, 64, 64, 3)"
            ]
          },
          "metadata": {},
          "execution_count": 11
        }
      ]
    },
    {
      "cell_type": "code",
      "source": [
        "labels.shape"
      ],
      "metadata": {
        "colab": {
          "base_uri": "https://localhost:8080/"
        },
        "id": "jrV9aH3HED8v",
        "outputId": "b9b89bb7-19da-4d4a-d371-021de1c92f50"
      },
      "execution_count": 12,
      "outputs": [
        {
          "output_type": "execute_result",
          "data": {
            "text/plain": [
              "(40000,)"
            ]
          },
          "metadata": {},
          "execution_count": 12
        }
      ]
    },
    {
      "cell_type": "code",
      "source": [
        "images[1]"
      ],
      "metadata": {
        "colab": {
          "base_uri": "https://localhost:8080/"
        },
        "id": "WBot0X4REFrn",
        "outputId": "d77c4bb5-b490-4f8d-9f0c-af32b364d188"
      },
      "execution_count": 13,
      "outputs": [
        {
          "output_type": "execute_result",
          "data": {
            "text/plain": [
              "array([[[195, 192, 187],\n",
              "        [193, 190, 185],\n",
              "        [189, 186, 181],\n",
              "        ...,\n",
              "        [194, 192, 184],\n",
              "        [192, 188, 182],\n",
              "        [200, 197, 190]],\n",
              "\n",
              "       [[191, 188, 183],\n",
              "        [190, 187, 182],\n",
              "        [187, 184, 179],\n",
              "        ...,\n",
              "        [194, 191, 184],\n",
              "        [196, 193, 186],\n",
              "        [187, 184, 177]],\n",
              "\n",
              "       [[196, 193, 188],\n",
              "        [202, 199, 194],\n",
              "        [194, 191, 186],\n",
              "        ...,\n",
              "        [185, 182, 175],\n",
              "        [197, 194, 187],\n",
              "        [192, 189, 182]],\n",
              "\n",
              "       ...,\n",
              "\n",
              "       [[139, 136, 132],\n",
              "        [118, 115, 109],\n",
              "        [119, 116, 109],\n",
              "        ...,\n",
              "        [201, 194, 184],\n",
              "        [184, 177, 167],\n",
              "        [170, 163, 153]],\n",
              "\n",
              "       [[111, 107, 104],\n",
              "        [ 88,  84,  81],\n",
              "        [102,  99,  94],\n",
              "        ...,\n",
              "        [211, 203, 192],\n",
              "        [199, 191, 180],\n",
              "        [195, 187, 176]],\n",
              "\n",
              "       [[ 59,  55,  54],\n",
              "        [ 58,  54,  52],\n",
              "        [ 62,  59,  54],\n",
              "        ...,\n",
              "        [224, 216, 203],\n",
              "        [206, 198, 185],\n",
              "        [217, 209, 196]]], dtype=uint8)"
            ]
          },
          "metadata": {},
          "execution_count": 13
        }
      ]
    },
    {
      "cell_type": "code",
      "source": [
        "X = images\n",
        "y = labels\n",
        "xtrain, xtest, ytrain, ytest = train_test_split(X, y, test_size = 0.2, random_state = 42)"
      ],
      "metadata": {
        "id": "VNOdjT-SEMun"
      },
      "execution_count": 14,
      "outputs": []
    },
    {
      "cell_type": "code",
      "source": [
        "xtrain.shape"
      ],
      "metadata": {
        "colab": {
          "base_uri": "https://localhost:8080/"
        },
        "id": "Uzc2jMXaEotD",
        "outputId": "191ebc55-c5e7-41c1-fcb1-9ef9547c947d"
      },
      "execution_count": 15,
      "outputs": [
        {
          "output_type": "execute_result",
          "data": {
            "text/plain": [
              "(32000, 64, 64, 3)"
            ]
          },
          "metadata": {},
          "execution_count": 15
        }
      ]
    },
    {
      "cell_type": "code",
      "source": [
        "xtest.shape"
      ],
      "metadata": {
        "colab": {
          "base_uri": "https://localhost:8080/"
        },
        "id": "s-PxsduOEqqX",
        "outputId": "349c1b44-deb8-41ab-ecc1-2ef65d3075b6"
      },
      "execution_count": 16,
      "outputs": [
        {
          "output_type": "execute_result",
          "data": {
            "text/plain": [
              "(8000, 64, 64, 3)"
            ]
          },
          "metadata": {},
          "execution_count": 16
        }
      ]
    },
    {
      "cell_type": "code",
      "source": [
        "from sklearn.preprocessing import OneHotEncoder\n",
        "encoder = OneHotEncoder()"
      ],
      "metadata": {
        "id": "-jlDN7r1E08g"
      },
      "execution_count": 17,
      "outputs": []
    },
    {
      "cell_type": "code",
      "source": [
        "# normalize xtrain and xtest\n",
        "xtrain =xtrain / 255.0\n",
        "xtest = xtest / 255.0"
      ],
      "metadata": {
        "id": "lNWSDEuXE87H"
      },
      "execution_count": 18,
      "outputs": []
    },
    {
      "cell_type": "code",
      "source": [
        "xtrain[1]"
      ],
      "metadata": {
        "colab": {
          "base_uri": "https://localhost:8080/"
        },
        "id": "ljUlbdQoFmQs",
        "outputId": "fdfc5cda-3e82-47ae-fa9d-6b4fea3e8319"
      },
      "execution_count": 19,
      "outputs": [
        {
          "output_type": "execute_result",
          "data": {
            "text/plain": [
              "array([[[0.70588235, 0.69019608, 0.64313725],\n",
              "        [0.72156863, 0.70196078, 0.65490196],\n",
              "        [0.70980392, 0.69411765, 0.64705882],\n",
              "        ...,\n",
              "        [0.74117647, 0.7254902 , 0.67843137],\n",
              "        [0.75294118, 0.7372549 , 0.69019608],\n",
              "        [0.77254902, 0.7372549 , 0.70196078]],\n",
              "\n",
              "       [[0.7372549 , 0.72156863, 0.6745098 ],\n",
              "        [0.70196078, 0.68627451, 0.63921569],\n",
              "        [0.70980392, 0.69411765, 0.64705882],\n",
              "        ...,\n",
              "        [0.77254902, 0.75686275, 0.70980392],\n",
              "        [0.78431373, 0.76862745, 0.72156863],\n",
              "        [0.78823529, 0.75294118, 0.71764706]],\n",
              "\n",
              "       [[0.74117647, 0.7254902 , 0.67843137],\n",
              "        [0.72156863, 0.70588235, 0.65882353],\n",
              "        [0.70588235, 0.69411765, 0.64313725],\n",
              "        ...,\n",
              "        [0.77254902, 0.75686275, 0.70980392],\n",
              "        [0.78431373, 0.76862745, 0.72156863],\n",
              "        [0.78039216, 0.74509804, 0.70980392]],\n",
              "\n",
              "       ...,\n",
              "\n",
              "       [[0.70588235, 0.69019608, 0.64313725],\n",
              "        [0.69803922, 0.68235294, 0.63529412],\n",
              "        [0.72156863, 0.70588235, 0.65882353],\n",
              "        ...,\n",
              "        [0.74509804, 0.73333333, 0.6745098 ],\n",
              "        [0.74901961, 0.7372549 , 0.67843137],\n",
              "        [0.74509804, 0.71372549, 0.67058824]],\n",
              "\n",
              "       [[0.70588235, 0.69019608, 0.64313725],\n",
              "        [0.7254902 , 0.70980392, 0.65882353],\n",
              "        [0.70196078, 0.68627451, 0.63921569],\n",
              "        ...,\n",
              "        [0.75686275, 0.74509804, 0.68627451],\n",
              "        [0.76862745, 0.75686275, 0.69803922],\n",
              "        [0.75686275, 0.7254902 , 0.68235294]],\n",
              "\n",
              "       [[0.69803922, 0.68235294, 0.63529412],\n",
              "        [0.71764706, 0.70196078, 0.65490196],\n",
              "        [0.70588235, 0.69019608, 0.64313725],\n",
              "        ...,\n",
              "        [0.76078431, 0.74509804, 0.69019608],\n",
              "        [0.75686275, 0.74509804, 0.68627451],\n",
              "        [0.74509804, 0.72941176, 0.68235294]]])"
            ]
          },
          "metadata": {},
          "execution_count": 19
        }
      ]
    },
    {
      "cell_type": "code",
      "source": [
        "from tensorflow.keras.models import Sequential\n",
        "from tensorflow.keras.layers import Conv2D, Dense"
      ],
      "metadata": {
        "id": "PgcuzulRFnMz"
      },
      "execution_count": 20,
      "outputs": []
    },
    {
      "cell_type": "code",
      "source": [
        "from tensorflow.keras.layers import Flatten, MaxPooling2D"
      ],
      "metadata": {
        "id": "bAcyw-1rHg-c"
      },
      "execution_count": 21,
      "outputs": []
    },
    {
      "cell_type": "code",
      "source": [
        "model = Sequential()\n",
        "model.add(Conv2D(32, (3,3), activation = 'relu', input_shape = (64, 64, 3)))\n",
        "model.add(MaxPooling2D(2,2))\n",
        "model.add(Conv2D(64, (3,3), activation = 'relu'))\n",
        "model.add(MaxPooling2D(2,2))"
      ],
      "metadata": {
        "id": "vFz9KaOeHmci"
      },
      "execution_count": 22,
      "outputs": []
    },
    {
      "cell_type": "code",
      "source": [
        "model.add(Flatten())\n",
        "model.add(Dense(64, activation = 'relu'))\n",
        "model.add(Dense(1, activation = 'sigmoid'))"
      ],
      "metadata": {
        "id": "wzpVQKh5Hogo"
      },
      "execution_count": 23,
      "outputs": []
    },
    {
      "cell_type": "code",
      "source": [
        "model.compile(optimizer = \"adam\", loss = \"binary_crossentropy\", metrics = ['accuracy'])"
      ],
      "metadata": {
        "id": "gHtJA16sIxY4"
      },
      "execution_count": 24,
      "outputs": []
    },
    {
      "cell_type": "code",
      "source": [
        "model.fit(xtrain, ytrain, epochs = 10, batch_size = 32, validation_data = (xtest, ytest))"
      ],
      "metadata": {
        "colab": {
          "base_uri": "https://localhost:8080/"
        },
        "id": "6lPNVvdAJBq_",
        "outputId": "85bbe61b-f44b-40fd-da67-e65650ded292"
      },
      "execution_count": 25,
      "outputs": [
        {
          "output_type": "stream",
          "name": "stdout",
          "text": [
            "Epoch 1/10\n",
            "1000/1000 [==============================] - 12s 7ms/step - loss: 0.0991 - accuracy: 0.9639 - val_loss: 0.0719 - val_accuracy: 0.9829\n",
            "Epoch 2/10\n",
            "1000/1000 [==============================] - 6s 6ms/step - loss: 0.0411 - accuracy: 0.9880 - val_loss: 0.0407 - val_accuracy: 0.9862\n",
            "Epoch 3/10\n",
            "1000/1000 [==============================] - 5s 5ms/step - loss: 0.0354 - accuracy: 0.9895 - val_loss: 0.0727 - val_accuracy: 0.9840\n",
            "Epoch 4/10\n",
            "1000/1000 [==============================] - 7s 7ms/step - loss: 0.0323 - accuracy: 0.9905 - val_loss: 0.0432 - val_accuracy: 0.9891\n",
            "Epoch 5/10\n",
            "1000/1000 [==============================] - 5s 5ms/step - loss: 0.0292 - accuracy: 0.9912 - val_loss: 0.0283 - val_accuracy: 0.9914\n",
            "Epoch 6/10\n",
            "1000/1000 [==============================] - 6s 6ms/step - loss: 0.0217 - accuracy: 0.9932 - val_loss: 0.0316 - val_accuracy: 0.9896\n",
            "Epoch 7/10\n",
            "1000/1000 [==============================] - 6s 6ms/step - loss: 0.0180 - accuracy: 0.9945 - val_loss: 0.0252 - val_accuracy: 0.9929\n",
            "Epoch 8/10\n",
            "1000/1000 [==============================] - 5s 5ms/step - loss: 0.0173 - accuracy: 0.9948 - val_loss: 0.0263 - val_accuracy: 0.9925\n",
            "Epoch 9/10\n",
            "1000/1000 [==============================] - 6s 6ms/step - loss: 0.0121 - accuracy: 0.9962 - val_loss: 0.0290 - val_accuracy: 0.9935\n",
            "Epoch 10/10\n",
            "1000/1000 [==============================] - 5s 5ms/step - loss: 0.0131 - accuracy: 0.9962 - val_loss: 0.0528 - val_accuracy: 0.9876\n"
          ]
        },
        {
          "output_type": "execute_result",
          "data": {
            "text/plain": [
              "<keras.src.callbacks.History at 0x79c7a1fd5390>"
            ]
          },
          "metadata": {},
          "execution_count": 25
        }
      ]
    },
    {
      "cell_type": "code",
      "source": [],
      "metadata": {
        "id": "UIXRSJsJJQFx"
      },
      "execution_count": 25,
      "outputs": []
    }
  ]
}